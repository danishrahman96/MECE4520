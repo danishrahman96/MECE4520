{
  "cells": [
    {
      "cell_type": "markdown",
      "metadata": {
        "id": "view-in-github",
        "colab_type": "text"
      },
      "source": [
        "<a href=\"https://colab.research.google.com/github/danishrahman96/MECE4520/blob/main/Data_Science_HW_2.ipynb\" target=\"_parent\"><img src=\"https://colab.research.google.com/assets/colab-badge.svg\" alt=\"Open In Colab\"/></a>"
      ]
    },
    {
      "cell_type": "markdown",
      "metadata": {
        "id": "bWWO5naGmxhg"
      },
      "source": [
        "Installing the Necessary Libraries"
      ]
    },
    {
      "cell_type": "code",
      "execution_count": null,
      "metadata": {
        "id": "o6rh0mlSmuM_"
      },
      "outputs": [],
      "source": [
        "import numpy as np\n",
        "import pandas as pd\n",
        "import statsmodels.api as sm\n",
        "from sklearn.preprocessing import PolynomialFeatures\n",
        "from scipy.stats import t"
      ]
    },
    {
      "cell_type": "markdown",
      "metadata": {
        "id": "qswl0kF0m90g"
      },
      "source": [
        "Importing the dataset"
      ]
    },
    {
      "cell_type": "code",
      "execution_count": null,
      "metadata": {
        "id": "3hoirOwfm9YK"
      },
      "outputs": [],
      "source": [
        "data = pd.read_csv(\"https://raw.githubusercontent.com/changyaochen/MECE4520/master/data/simple_linear_regression.csv\",names=[\"x\",\"y\"])"
      ]
    },
    {
      "cell_type": "markdown",
      "metadata": {
        "id": "mWksGCIDnGk_"
      },
      "source": [
        "Problem #1: Part 1"
      ]
    },
    {
      "cell_type": "code",
      "execution_count": null,
      "metadata": {
        "colab": {
          "base_uri": "https://localhost:8080/"
        },
        "id": "904h2weInIWh",
        "outputId": "23a65bb4-6ecc-44ca-ccf0-18c0073069ec"
      },
      "outputs": [
        {
          "output_type": "stream",
          "name": "stdout",
          "text": [
            "The slope (beta_1) and intercept (beta_0) values are equal to: 18.22 and -35.33 respectively\n"
          ]
        }
      ],
      "source": [
        "x = data[\"x\"]\n",
        "y = data[\"y\"]\n",
        "\n",
        "def problem1_linear_regression(x,y):\n",
        "    beta_1 = np.cov(x, y)[0][1] / np.cov(x, x)[0][1]\n",
        "    beta_0 = np.mean(y) - beta_1 * np.mean(x)\n",
        "\n",
        "    return beta_1,beta_0\n",
        "\n",
        "beta_1, beta_0 = problem1_linear_regression(x=x, y=y)\n",
        "print(f\"The slope (beta_1) and intercept (beta_0) values are equal to: {beta_1:5.2f} and {beta_0:5.2f} respectively\")"
      ]
    },
    {
      "cell_type": "markdown",
      "metadata": {
        "id": "oeCF7lkcufQp"
      },
      "source": [
        "Problem #1: Part 2"
      ]
    },
    {
      "cell_type": "code",
      "execution_count": null,
      "metadata": {
        "colab": {
          "base_uri": "https://localhost:8080/"
        },
        "id": "aNNLA5TDqoTc",
        "outputId": "2ebd76ec-8f06-490c-d74e-d776f3431215"
      },
      "outputs": [
        {
          "output_type": "stream",
          "name": "stdout",
          "text": [
            "The standard error for the slope (beta_1) and intercept (beta_0) values are equal to: 0.60 and 6.30 respectively\n"
          ]
        }
      ],
      "source": [
        "y_predicted = beta_0+beta_1*x\n",
        "error = y-y_predicted\n",
        "\n",
        "SE_beta_0 = (np.var(error,ddof=2)*(1./len(x)+(np.mean(x))**2/np.sum((x - np.mean(x))**2)))**0.5\n",
        "SE_beta_1 = (np.var(error)/np.sum((x - np.mean(x))**2))**0.5 \n",
        "\n",
        "print(f\"The standard error for the slope (beta_1) and intercept (beta_0) values are equal to:{SE_beta_1:5.2f} and{SE_beta_0:5.2f} respectively\")"
      ]
    },
    {
      "cell_type": "markdown",
      "metadata": {
        "id": "pIIuSeQWkn7w"
      },
      "source": [
        "Problem #1: Part 3"
      ]
    },
    {
      "cell_type": "code",
      "execution_count": null,
      "metadata": {
        "colab": {
          "base_uri": "https://localhost:8080/"
        },
        "id": "ZwThHb6hkpy_",
        "outputId": "252f7e3f-b13e-497a-ab3e-0ef0929b888d"
      },
      "outputs": [
        {
          "output_type": "stream",
          "name": "stdout",
          "text": [
            "The 95% confidence interval for the slope (beta_1) is between 17.05 and 19.40.\n",
            "The slope value (beta_1) is statistically significant.\n"
          ]
        }
      ],
      "source": [
        "# Knowing that the 95% confidence interval correlates to a z value of 1.96\n",
        "z=1.96\n",
        "\n",
        "beta_1_conf_low = beta_1 - (z*SE_beta_1)\n",
        "beta_1_conf_high = beta_1 + (z*SE_beta_1)\n",
        "signficance =  beta_1_conf_low <= 0 <= beta_1_conf_high\n",
        "print(f\"The 95% confidence interval for the slope (beta_1) is between {beta_1_conf_low:5.2f} and {beta_1_conf_high:5.2f}.\")\n",
        "if signficance == False:\n",
        "  print(\"The slope value (beta_1) is statistically significant.\")\n",
        "else:\n",
        "    print(\"The slope value (beta_1) is not statistically significant.\")\n"
      ]
    },
    {
      "cell_type": "markdown",
      "metadata": {
        "id": "115zc3WWrUYj"
      },
      "source": [
        "Problem #1: Part 4"
      ]
    },
    {
      "cell_type": "code",
      "execution_count": null,
      "metadata": {
        "colab": {
          "base_uri": "https://localhost:8080/"
        },
        "id": "9EDSIeCjrWFa",
        "outputId": "57b12386-2b40-463a-a287-5f04efbd7dbb"
      },
      "outputs": [
        {
          "output_type": "stream",
          "name": "stdout",
          "text": [
            "The R_Squared value for this dataset is: 0.822\n"
          ]
        }
      ],
      "source": [
        "y_tilda = beta_0 + beta_1*x\n",
        "total_SS = np.sum(np.square(y-np.mean(y)))\n",
        "regression_SS = np.sum(np.square(y_tilda-np.mean(y)))\n",
        "error_SS = np.sum(np.square(y-y_tilda))\n",
        "\n",
        "r_square = 1-(error_SS/total_SS)\n",
        "print(f\"The R_Squared value for this dataset is: {r_square:5.3f}\")"
      ]
    },
    {
      "cell_type": "markdown",
      "source": [],
      "metadata": {
        "id": "Fj9Tvkje3Vsj"
      }
    },
    {
      "cell_type": "markdown",
      "metadata": {
        "id": "70w5Lk7hjWdb"
      },
      "source": [
        "Problem #1: Part 5"
      ]
    },
    {
      "cell_type": "code",
      "execution_count": null,
      "metadata": {
        "colab": {
          "base_uri": "https://localhost:8080/"
        },
        "id": "nMYNd1M7jadk",
        "outputId": "4c119a67-854c-4a04-8e09-7fab891d6948"
      },
      "outputs": [
        {
          "output_type": "stream",
          "name": "stdout",
          "text": [
            "The new predicted y-value is: 146.91\n",
            "Its 95% confidence interval is between 131.91 and 161.90\n"
          ]
        }
      ],
      "source": [
        "x_new = 10\n",
        "y_tilda_new = beta_0 + beta_1*x_new\n",
        "X = np.append(np.ones(shape=(data.shape[0], 1)), data[[\"x\"]].values, axis=1)\n",
        "delta = np.sqrt(np.var(error,ddof=X.shape[1])) * np.sqrt(1 / X.shape[0] + (x_new - np.mean(X[:, 1]))**2 / np.sum((X[:, 1] - np.mean(X[:, 1]))**2))\n",
        "z_new = t.ppf(q=0.975, df= X.shape[0] - X.shape[1])\n",
        "\n",
        "conf_low = (y_tilda_new-delta*z_new)\n",
        "conf_high = (y_tilda_new+delta*z_new)\n",
        "\n",
        "print(f\"The new predicted y-value is: {y_tilda_new:5.2f}\")\n",
        "print(f\"Its 95% confidence interval is between {conf_low:5.2f} and{conf_high: 5.2f}\")"
      ]
    },
    {
      "cell_type": "markdown",
      "metadata": {
        "id": "izv5sUHVjbC9"
      },
      "source": [
        "Problem #2: Part 1"
      ]
    },
    {
      "cell_type": "code",
      "execution_count": null,
      "metadata": {
        "colab": {
          "base_uri": "https://localhost:8080/"
        },
        "id": "trN4UngMoy4G",
        "outputId": "b2c7c18c-5b92-4260-aca7-4fd4f7de29f8"
      },
      "outputs": [
        {
          "output_type": "stream",
          "name": "stdout",
          "text": [
            "From the regression results, the values for beta_0, beta_1 and beta_2 are -37.052, 18.135 and 0.018 respectively\n"
          ]
        }
      ],
      "source": [
        "poly_2 = PolynomialFeatures(degree = 2)\n",
        "x2 = np.array(x).reshape(-1,1)\n",
        "y2 = np.array(y).reshape(-1,1)\n",
        "x2_pred = poly_2.fit_transform(x2)\n",
        "model = sm.OLS(y2, x2_pred).fit()\n",
        "ypred = model.predict(x2_pred) \n",
        "ypred.shape\n",
        "\n",
        "coeff = pd.read_html(model.summary().tables[1].as_html(),header=0,index_col=0)[0]\n",
        "beta_0_2 = coeff['coef'].values[0]\n",
        "beta_1_2 = coeff['coef'].values[1]\n",
        "beta_2_2 = coeff['coef'].values[2]\n",
        "print(f\"From the regression results, the values for beta_0, beta_1 and beta_2 are {beta_0_2:5.3f}, {beta_1_2:5.3f} and {beta_2_2:5.3f} respectively\")"
      ]
    },
    {
      "cell_type": "markdown",
      "metadata": {
        "id": "c_y9ij5ijd0L"
      },
      "source": [
        "Problem #2: Part 2"
      ]
    },
    {
      "cell_type": "code",
      "execution_count": null,
      "metadata": {
        "colab": {
          "base_uri": "https://localhost:8080/"
        },
        "id": "yZ6C-QMG0Q2P",
        "outputId": "a24557a2-e648-4881-b1d1-413fb98add7f"
      },
      "outputs": [
        {
          "output_type": "stream",
          "name": "stdout",
          "text": [
            "The standard error for the coefficients beta_0, beta_1 and beta_2 is: 9.020, 0.689 and 0.066 respectively\n"
          ]
        }
      ],
      "source": [
        "SE_beta_0_2 = coeff['std err'].values[0]\n",
        "SE_beta_1_2 = coeff['std err'].values[1]\n",
        "SE_beta_2_2 = coeff['std err'].values[2]\n",
        "\n",
        "print(f\"The standard error for the coefficients beta_0, beta_1 and beta_2 is: {SE_beta_0_2:5.3f}, {SE_beta_1_2:5.3f} and {SE_beta_2_2:5.3f} respectively\")"
      ]
    },
    {
      "cell_type": "markdown",
      "metadata": {
        "id": "mWpn2mlejfWm"
      },
      "source": [
        "Problem #2: Part 3"
      ]
    },
    {
      "cell_type": "code",
      "execution_count": null,
      "metadata": {
        "colab": {
          "base_uri": "https://localhost:8080/"
        },
        "id": "hoBZJj9T3W_M",
        "outputId": "e41dd55e-bebf-4871-ca08-a3258992cabe"
      },
      "outputs": [
        {
          "output_type": "stream",
          "name": "stdout",
          "text": [
            "The 95% confidence interval for the beta_1 is between 16.78 and 19.49.\n",
            "The 95% confidence interval for the beta_2 is between -0.11 and  0.15\n",
            "Beta_1 is statistically significant.\n",
            "Beta_2 is not statistically significant.\n"
          ]
        }
      ],
      "source": [
        "beta_1_2_conf_low = round(beta_1_2 - (z*SE_beta_1_2),2)\n",
        "beta_1_2_conf_high = round(beta_1_2 + (z*SE_beta_1_2),2)\n",
        "beta_2_2_conf_low = beta_2_2 - (z*SE_beta_2_2)\n",
        "beta_2_2_conf_high = beta_2_2 + (z*SE_beta_2_2)\n",
        "sig_beta_1 = beta_1_2_conf_low <= 0 <= beta_1_2_conf_high\n",
        "sig_beta_2 = beta_2_2_conf_low <= 0 <= beta_2_2_conf_high\n",
        "print(f\"The 95% confidence interval for the beta_1 is between {beta_1_2_conf_low:5.2f} and {beta_1_2_conf_high:5.2f}.\")\n",
        "print(f\"The 95% confidence interval for the beta_2 is between {beta_2_2_conf_low:5.2f} and {beta_2_2_conf_high:5.2f}\")\n",
        "\n",
        "if sig_beta_1 == False:\n",
        "  print(\"Beta_1 is statistically significant.\")\n",
        "else:\n",
        "    print(\"Beta_1 is not statistically significant.\")\n",
        "if sig_beta_2 == False:\n",
        "  print(\"Beta_2 is statistically significant.\")\n",
        "else:\n",
        "    print(\"Beta_2 is not statistically significant.\")"
      ]
    },
    {
      "cell_type": "markdown",
      "metadata": {
        "id": "pUhgatrKjhrn"
      },
      "source": [
        "Problem #2: Part 4"
      ]
    },
    {
      "cell_type": "code",
      "execution_count": null,
      "metadata": {
        "colab": {
          "base_uri": "https://localhost:8080/"
        },
        "id": "CmLO59qLkyW1",
        "outputId": "a7d6b679-2775-4441-9941-b5df7b3a2875"
      },
      "outputs": [
        {
          "output_type": "stream",
          "name": "stdout",
          "text": [
            "0.8222\n"
          ]
        }
      ],
      "source": [
        "SSR = np.sum(np.square(ypred-np.mean(y)))\n",
        "SSE = np.sum(np.square(y-ypred))\n",
        "SST = np.sum(np.square(y-np.mean(y)))\n",
        "r_square_2 = round(1-SSE/SST,4)\n",
        "print(r_square_2)"
      ]
    },
    {
      "cell_type": "code",
      "source": [
        "%%shell\n",
        "\n",
        "jupyter nbconvert --to html /content/Data_Science_HW_2.ipynb"
      ],
      "metadata": {
        "colab": {
          "base_uri": "https://localhost:8080/"
        },
        "id": "Z5YXBr81Fpl-",
        "outputId": "deaac320-e413-41cd-f2da-c39188ecbf67"
      },
      "execution_count": null,
      "outputs": [
        {
          "output_type": "stream",
          "name": "stdout",
          "text": [
            "[NbConvertApp] Converting notebook /content/Data_Science_HW_2.ipynb to html\n",
            "[NbConvertApp] Writing 307553 bytes to /content/Data_Science_HW_2.html\n"
          ]
        },
        {
          "output_type": "execute_result",
          "data": {
            "text/plain": []
          },
          "metadata": {},
          "execution_count": 61
        }
      ]
    }
  ],
  "metadata": {
    "colab": {
      "provenance": [],
      "include_colab_link": true
    },
    "kernelspec": {
      "display_name": "Python 3",
      "name": "python3"
    },
    "language_info": {
      "name": "python"
    }
  },
  "nbformat": 4,
  "nbformat_minor": 0
}